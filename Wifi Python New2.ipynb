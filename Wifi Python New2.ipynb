{
 "cells": [
  {
   "cell_type": "code",
   "execution_count": 1,
   "metadata": {
    "ExecuteTime": {
     "end_time": "2020-09-02T21:09:40.165759Z",
     "start_time": "2020-09-02T21:09:35.684809Z"
    },
    "hideCode": false,
    "hidePrompt": false
   },
   "outputs": [],
   "source": [
    "# Load libraries\n",
    "from pandas import read_csv\n",
    "from pandas.plotting import scatter_matrix\n",
    "from matplotlib import pyplot\n",
    "from sklearn.model_selection import train_test_split\n",
    "from sklearn.model_selection import cross_val_score\n",
    "from sklearn.model_selection import StratifiedKFold\n",
    "from sklearn.metrics import classification_report\n",
    "from sklearn.metrics import confusion_matrix\n",
    "from sklearn.metrics import accuracy_score\n",
    "from sklearn.linear_model import LogisticRegression\n",
    "from sklearn.tree import DecisionTreeClassifier\n",
    "from sklearn.neighbors import KNeighborsClassifier\n",
    "from sklearn.discriminant_analysis import LinearDiscriminantAnalysis\n",
    "from sklearn.naive_bayes import GaussianNB\n",
    "from sklearn.svm import SVC\n",
    "import pandas as pd\n",
    "import seaborn as sns\n",
    "import matplotlib.pyplot as plt\n",
    "import numpy as np\n",
    "\n",
    "from sklearn import svm\n",
    "from sklearn.linear_model import SGDClassifier\n",
    "\n",
    "from sklearn.ensemble import RandomForestClassifier\n",
    "from sklearn import linear_model\n",
    "from sklearn.linear_model import Ridge\n",
    "from sklearn import svm\n",
    "from sklearn.neighbors import KNeighborsRegressor\n",
    "\n",
    "from sklearn.model_selection import GridSearchCV"
   ]
  },
  {
   "cell_type": "code",
   "execution_count": 76,
   "metadata": {
    "ExecuteTime": {
     "end_time": "2020-05-14T14:31:49.748881Z",
     "start_time": "2020-05-14T14:31:48.098864Z"
    },
    "hideCode": false,
    "hidePrompt": false
   },
   "outputs": [
    {
     "name": "stdout",
     "output_type": "stream",
     "text": [
      "C:\\Users\\Thomas S\\Documents\\Ubiqum\\3. IoT Analytics\\3. Evaluate Techniques for Wifi Locationing\\Scripts Wifi\n"
     ]
    }
   ],
   "source": [
    "# Load Data (new way)\n",
    "import os\n",
    "print(os.getcwd())\n",
    "\n",
    "path = os.getcwd()\n",
    "\n",
    "# Load dataset\n",
    "data = pd.read_csv(path+\"/../Data Wifi/trainingData.csv\")"
   ]
  },
  {
   "cell_type": "code",
   "execution_count": 20,
   "metadata": {
    "code_folding": [],
    "hideCode": false,
    "hidePrompt": false
   },
   "outputs": [
    {
     "ename": "NameError",
     "evalue": "name '__file__' is not defined",
     "output_type": "error",
     "traceback": [
      "\u001b[1;31m---------------------------------------------------------------------------\u001b[0m",
      "\u001b[1;31mNameError\u001b[0m                                 Traceback (most recent call last)",
      "\u001b[1;32m<ipython-input-20-9a4f62789498>\u001b[0m in \u001b[0;36m<module>\u001b[1;34m\u001b[0m\n\u001b[0;32m      7\u001b[0m \u001b[0mcwd\u001b[0m \u001b[1;33m=\u001b[0m \u001b[0mPath\u001b[0m\u001b[1;33m.\u001b[0m\u001b[0mcwd\u001b[0m\u001b[1;33m(\u001b[0m\u001b[1;33m)\u001b[0m\u001b[1;33m\u001b[0m\u001b[1;33m\u001b[0m\u001b[0m\n\u001b[0;32m      8\u001b[0m \u001b[1;33m\u001b[0m\u001b[0m\n\u001b[1;32m----> 9\u001b[1;33m \u001b[0mmod_path\u001b[0m \u001b[1;33m=\u001b[0m \u001b[0mPath\u001b[0m\u001b[1;33m(\u001b[0m\u001b[0m__file__\u001b[0m\u001b[1;33m)\u001b[0m\u001b[1;33m.\u001b[0m\u001b[0mparent\u001b[0m\u001b[1;33m\u001b[0m\u001b[1;33m\u001b[0m\u001b[0m\n\u001b[0m\u001b[0;32m     10\u001b[0m \u001b[1;33m\u001b[0m\u001b[0m\n\u001b[0;32m     11\u001b[0m \u001b[0mmod_path\u001b[0m \u001b[1;33m=\u001b[0m \u001b[0mPath\u001b[0m\u001b[1;33m(\u001b[0m\u001b[0mhelper_script\u001b[0m\u001b[1;33m.\u001b[0m\u001b[0m__file__\u001b[0m\u001b[1;33m)\u001b[0m\u001b[1;33m.\u001b[0m\u001b[0mparent\u001b[0m\u001b[1;33m\u001b[0m\u001b[1;33m\u001b[0m\u001b[0m\n",
      "\u001b[1;31mNameError\u001b[0m: name '__file__' is not defined"
     ]
    }
   ],
   "source": [
    "# Load Data (old way)\n",
    "# data = pd.read_csv(\"C:/Users/Thomas S/Documents/Ubiqum/3. IoT Analytics/3. Evaluate Techniques for Wifi Locationing/Data Wifi/trainingData.csv\")"
   ]
  },
  {
   "cell_type": "code",
   "execution_count": 43,
   "metadata": {
    "ExecuteTime": {
     "end_time": "2020-05-13T12:23:31.779108Z",
     "start_time": "2020-05-13T12:23:30.164482Z"
    },
    "hideCode": false,
    "hidePrompt": false
   },
   "outputs": [
    {
     "name": "stdout",
     "output_type": "stream",
     "text": [
      "WAP001              0\n",
      "WAP002              0\n",
      "WAP003              0\n",
      "WAP004              0\n",
      "WAP005              0\n",
      "                   ..\n",
      "SPACEID             0\n",
      "RELATIVEPOSITION    0\n",
      "USERID              0\n",
      "PHONEID             0\n",
      "TIMESTAMP           0\n",
      "Length: 529, dtype: int64\n",
      "(19937, 529)\n",
      "    WAP001  WAP002  WAP003  WAP004  WAP005  WAP006  WAP007  WAP008  WAP009  \\\n",
      "0      100     100     100     100     100     100     100     100     100   \n",
      "1      100     100     100     100     100     100     100     100     100   \n",
      "2      100     100     100     100     100     100     100     -97     100   \n",
      "3      100     100     100     100     100     100     100     100     100   \n",
      "4      100     100     100     100     100     100     100     100     100   \n",
      "5      100     100     100     100     100     100     100     100     100   \n",
      "6      100     100     100     100     100     100     100     100     100   \n",
      "7      100     100     100     100     100     100     100     100     100   \n",
      "8      100     100     100     100     100     100     100     100     100   \n",
      "9      100     100     100     100     100     100     100     100     100   \n",
      "10     100     100     100     100     100     100     100     -83     100   \n",
      "11     100     100     100     100     100     100     100     -90     100   \n",
      "12     100     100     100     100     100     100     100     100     100   \n",
      "13     100     100     100     100     100     100     100     100     100   \n",
      "14     100     100     100     100     100     100     100     100     100   \n",
      "15     100     100     100     100     100     100     100     100     100   \n",
      "16     100     100     100     100     100     100     100     100     100   \n",
      "17     100     100     100     100     100     100     100     100     100   \n",
      "18     100     100     100     100     100     100     100     100     100   \n",
      "19     100     100     100     100     100     100     100     100     100   \n",
      "\n",
      "    WAP010  ...  WAP520    LONGITUDE      LATITUDE  FLOOR  BUILDINGID  \\\n",
      "0      100  ...     100 -7541.264300  4.864921e+06      2           1   \n",
      "1      100  ...     100 -7536.621200  4.864934e+06      2           1   \n",
      "2      100  ...     100 -7519.152400  4.864950e+06      2           1   \n",
      "3      100  ...     100 -7524.570400  4.864934e+06      2           1   \n",
      "4      100  ...     100 -7632.143600  4.864982e+06      0           0   \n",
      "5      100  ...     100 -7533.896200  4.864939e+06      2           1   \n",
      "6      100  ...     100 -7519.152400  4.864950e+06      2           1   \n",
      "7      100  ...     100 -7527.451100  4.864929e+06      2           1   \n",
      "8      100  ...     100 -7559.497300  4.864888e+06      2           1   \n",
      "9      100  ...     100 -7510.437173  4.864949e+06      2           1   \n",
      "10     100  ...     100 -7528.816402  4.864959e+06      2           1   \n",
      "11     100  ...     100 -7523.628200  4.864952e+06      2           1   \n",
      "12     100  ...     100 -7571.093400  4.864872e+06      2           1   \n",
      "13     100  ...     100 -7559.782000  4.864871e+06      2           1   \n",
      "14     100  ...     100 -7562.186200  4.864867e+06      2           1   \n",
      "15     100  ...     100 -7564.196300  4.864887e+06      2           1   \n",
      "16     100  ...     100 -7555.132300  4.864885e+06      2           1   \n",
      "17     100  ...     100 -7520.724500  4.864892e+06      2           1   \n",
      "18     100  ...     100 -7521.867186  4.864889e+06      2           1   \n",
      "19     100  ...     100 -7537.339900  4.864896e+06      2           1   \n",
      "\n",
      "    SPACEID  RELATIVEPOSITION  USERID  PHONEID   TIMESTAMP  \n",
      "0       106                 2       2       23  1371713733  \n",
      "1       106                 2       2       23  1371713691  \n",
      "2       103                 2       2       23  1371714095  \n",
      "3       102                 2       2       23  1371713807  \n",
      "4       122                 2      11       13  1369909710  \n",
      "5       105                 2       2       23  1371713841  \n",
      "6       103                 2       2       23  1371713883  \n",
      "7       101                 2       2       23  1371713775  \n",
      "8       112                 2       2       23  1371714307  \n",
      "9       103                 1       2       23  1371714128  \n",
      "10      104                 1       2       23  1371714200  \n",
      "11      104                 2       2       23  1371714166  \n",
      "12      110                 2       2       23  1371714393  \n",
      "13      108                 2       2       23  1371714467  \n",
      "14      109                 2       2       23  1371714433  \n",
      "15      111                 2       2       23  1371714355  \n",
      "16      107                 2       2       23  1371714509  \n",
      "17       15                 2       2       23  1371714730  \n",
      "18       29                 1       2       23  1371714802  \n",
      "19      117                 2       2       23  1371714556  \n",
      "\n",
      "[20 rows x 529 columns]\n",
      "             WAP001        WAP002   WAP003   WAP004        WAP005  \\\n",
      "count  19937.000000  19937.000000  19937.0  19937.0  19937.000000   \n",
      "mean      99.823644     99.820936    100.0    100.0     99.613733   \n",
      "std        5.866842      5.798156      0.0      0.0      8.615657   \n",
      "min      -97.000000    -90.000000    100.0    100.0    -97.000000   \n",
      "25%      100.000000    100.000000    100.0    100.0    100.000000   \n",
      "50%      100.000000    100.000000    100.0    100.0    100.000000   \n",
      "75%      100.000000    100.000000    100.0    100.0    100.000000   \n",
      "max      100.000000    100.000000    100.0    100.0    100.000000   \n",
      "\n",
      "             WAP006        WAP007        WAP008        WAP009        WAP010  \\\n",
      "count  19937.000000  19937.000000  19937.000000  19937.000000  19937.000000   \n",
      "mean      97.130461     94.733661     93.820234     94.693936     99.163766   \n",
      "std       22.931890     30.541335     33.010404     30.305084     12.634045   \n",
      "min      -98.000000    -99.000000    -98.000000    -98.000000    -99.000000   \n",
      "25%      100.000000    100.000000    100.000000    100.000000    100.000000   \n",
      "50%      100.000000    100.000000    100.000000    100.000000    100.000000   \n",
      "75%      100.000000    100.000000    100.000000    100.000000    100.000000   \n",
      "max      100.000000    100.000000    100.000000    100.000000    100.000000   \n",
      "\n",
      "       ...   WAP520     LONGITUDE      LATITUDE         FLOOR    BUILDINGID  \\\n",
      "count  ...  19937.0  19937.000000  1.993700e+04  19937.000000  19937.000000   \n",
      "mean   ...    100.0  -7464.275947  4.864871e+06      1.674575      1.212820   \n",
      "std    ...      0.0    123.402010  6.693318e+01      1.223078      0.833139   \n",
      "min    ...    100.0  -7691.338400  4.864746e+06      0.000000      0.000000   \n",
      "25%    ...    100.0  -7594.737000  4.864821e+06      1.000000      0.000000   \n",
      "50%    ...    100.0  -7423.060900  4.864852e+06      2.000000      1.000000   \n",
      "75%    ...    100.0  -7359.193000  4.864930e+06      3.000000      2.000000   \n",
      "max    ...    100.0  -7300.818990  4.865017e+06      4.000000      2.000000   \n",
      "\n",
      "            SPACEID  RELATIVEPOSITION        USERID       PHONEID  \\\n",
      "count  19937.000000      19937.000000  19937.000000  19937.000000   \n",
      "mean     148.429954          1.833024      9.068014     13.021869   \n",
      "std       58.342106          0.372964      4.988720      5.362410   \n",
      "min        1.000000          1.000000      1.000000      1.000000   \n",
      "25%      110.000000          2.000000      5.000000      8.000000   \n",
      "50%      129.000000          2.000000     11.000000     13.000000   \n",
      "75%      207.000000          2.000000     13.000000     14.000000   \n",
      "max      254.000000          2.000000     18.000000     24.000000   \n",
      "\n",
      "          TIMESTAMP  \n",
      "count  1.993700e+04  \n",
      "mean   1.371421e+09  \n",
      "std    5.572054e+05  \n",
      "min    1.369909e+09  \n",
      "25%    1.371056e+09  \n",
      "50%    1.371716e+09  \n",
      "75%    1.371721e+09  \n",
      "max    1.371738e+09  \n",
      "\n",
      "[8 rows x 529 columns]\n"
     ]
    }
   ],
   "source": [
    "# initial Data exploration ALL\n",
    "\n",
    "# check for NAs\n",
    "print(data.isna().sum())\n",
    "\n",
    "# shape: no. of rows & columns of df\n",
    "print(data.shape)\n",
    "\n",
    "# head: print first 20 rows\n",
    "print(data.head(20))\n",
    "\n",
    "# describe: statistics of the attributes\n",
    "print(data.describe())"
   ]
  },
  {
   "cell_type": "code",
   "execution_count": 44,
   "metadata": {
    "ExecuteTime": {
     "end_time": "2020-05-13T12:23:35.452237Z",
     "start_time": "2020-05-13T12:23:35.415123Z"
    },
    "hideCode": false,
    "hidePrompt": false
   },
   "outputs": [
    {
     "name": "stdout",
     "output_type": "stream",
     "text": [
      "   COUNTS\n",
      "2    9492\n",
      "0    5249\n",
      "1    5196\n",
      "     COUNTS\n",
      "202     484\n",
      "106     475\n",
      "107     469\n",
      "104     439\n",
      "101     418\n",
      "..      ...\n",
      "27       17\n",
      "14       12\n",
      "142      10\n",
      "22       10\n",
      "254      10\n",
      "\n",
      "[123 rows x 1 columns]\n",
      "   COUNTS\n",
      "2   16608\n",
      "1    3329\n",
      "    COUNTS\n",
      "11    4516\n",
      "1     2737\n",
      "14    1596\n",
      "7     1383\n",
      "2     1091\n",
      "9     1066\n",
      "16    1032\n",
      "6      980\n",
      "10     913\n",
      "13     841\n",
      "17     724\n",
      "5      610\n",
      "8      507\n",
      "15     498\n",
      "18     440\n",
      "12     437\n",
      "4      374\n",
      "3      192\n",
      "    COUNTS\n",
      "14    4835\n",
      "13    4516\n",
      "7     1596\n",
      "6     1383\n",
      "23    1091\n",
      "19     980\n",
      "8      913\n",
      "17     841\n",
      "22     724\n",
      "3      610\n",
      "1      507\n",
      "11     498\n",
      "10     440\n",
      "24     437\n",
      "18     374\n",
      "16     192\n"
     ]
    }
   ],
   "source": [
    "# Initial Data Exploration Categorial Data\n",
    "\n",
    "# Summarize Categorial Data BuildingID\n",
    "print(pd.DataFrame(data['BUILDINGID'].value_counts()).rename(columns={'BUILDINGID':'COUNTS'}))\n",
    "\n",
    "# Summarize Categorial Data SpaceID\n",
    "print(pd.DataFrame(data['SPACEID'].value_counts()).rename(columns={'SPACEID':'COUNTS'}))\n",
    "\n",
    "# Summarize Categorial Data SpaceID\n",
    "print(pd.DataFrame(data['RELATIVEPOSITION'].value_counts()).rename(columns={'RELATIVEPOSITION':'COUNTS'}))\n",
    "\n",
    "# Summarize Categorial Data SpaceID\n",
    "print(pd.DataFrame(data['USERID'].value_counts()).rename(columns={'USERID':'COUNTS'}))\n",
    "\n",
    "# Summarize Categorial Data SpaceID\n",
    "print(pd.DataFrame(data['PHONEID'].value_counts()).rename(columns={'PHONEID':'COUNTS'}))\n"
   ]
  },
  {
   "cell_type": "code",
   "execution_count": 39,
   "metadata": {
    "ExecuteTime": {
     "end_time": "2020-05-13T12:20:37.973706Z",
     "start_time": "2020-05-13T12:20:37.946778Z"
    },
    "hideCode": false,
    "hidePrompt": false
   },
   "outputs": [
    {
     "name": "stdout",
     "output_type": "stream",
     "text": [
      "FLOOR\n",
      "0    4369\n",
      "1    5002\n",
      "2    4416\n",
      "3    5048\n",
      "4    1102\n",
      "dtype: int64\n",
      "BUILDINGID\n",
      "0    5249\n",
      "1    5196\n",
      "2    9492\n",
      "dtype: int64\n",
      "SPACEID\n",
      "1       65\n",
      "2       80\n",
      "3       97\n",
      "4       95\n",
      "5       60\n",
      "      ... \n",
      "248    110\n",
      "249     30\n",
      "250     20\n",
      "253     20\n",
      "254     10\n",
      "Length: 123, dtype: int64\n",
      "RELATIVEPOSITION\n",
      "1     3329\n",
      "2    16608\n",
      "dtype: int64\n",
      "USERID\n",
      "1     2737\n",
      "2     1091\n",
      "3      192\n",
      "4      374\n",
      "5      610\n",
      "6      980\n",
      "7     1383\n",
      "8      507\n",
      "9     1066\n",
      "10     913\n",
      "11    4516\n",
      "12     437\n",
      "13     841\n",
      "14    1596\n",
      "15     498\n",
      "16    1032\n",
      "17     724\n",
      "18     440\n",
      "dtype: int64\n",
      "PHONEID\n",
      "1      507\n",
      "3      610\n",
      "6     1383\n",
      "7     1596\n",
      "8      913\n",
      "10     440\n",
      "11     498\n",
      "13    4516\n",
      "14    4835\n",
      "16     192\n",
      "17     841\n",
      "18     374\n",
      "19     980\n",
      "22     724\n",
      "23    1091\n",
      "24     437\n",
      "dtype: int64\n"
     ]
    }
   ],
   "source": [
    "# initial Data exploration GroupBy\n",
    "\n",
    "# grouby: distribution of classes - FLOOR\n",
    "print(data.groupby('FLOOR').size())\n",
    "\n",
    "# grouby: distribution of classes - BUILDINGID\n",
    "print(data.groupby('BUILDINGID').size())\n",
    "\n",
    "# grouby: distribution of classes - SPACEID\n",
    "print(data.groupby('SPACEID').size())\n",
    "\n",
    "# grouby: distribution of classes - RELATIVEPOSITION\n",
    "print(data.groupby('RELATIVEPOSITION').size())\n",
    "\n",
    "# grouby: distribution of classes - USERID\n",
    "print(data.groupby('USERID').size())\n",
    "\n",
    "# grouby: distribution of classes - PHONEID\n",
    "print(data.groupby('PHONEID').size())"
   ]
  },
  {
   "cell_type": "code",
   "execution_count": 7,
   "metadata": {
    "ExecuteTime": {
     "end_time": "2020-05-13T11:52:58.039183Z",
     "start_time": "2020-05-13T11:52:57.364201Z"
    },
    "hideCode": false,
    "hidePrompt": false
   },
   "outputs": [
    {
     "data": {
      "text/plain": [
       "<matplotlib.axes._subplots.AxesSubplot at 0x1e5e3ab2448>"
      ]
     },
     "execution_count": 7,
     "metadata": {},
     "output_type": "execute_result"
    },
    {
     "data": {
      "image/png": "[encoded data removed]",
      "text/plain": [
       "<Figure size 432x288 with 1 Axes>"
      ]
     },
     "metadata": {
      "needs_background": "light"
     },
     "output_type": "display_data"
    },
    {
     "data": {
      "image/png": "[encoded data removed]",
      "text/plain": [
       "<Figure size 432x288 with 1 Axes>"
      ]
     },
     "metadata": {
      "needs_background": "light"
     },
     "output_type": "display_data"
    },
    {
     "data": {
      "image/png": "[encoded data removed]",
      "text/plain": [
       "<Figure size 432x288 with 1 Axes>"
      ]
     },
     "metadata": {
      "needs_background": "light"
     },
     "output_type": "display_data"
    }
   ],
   "source": [
    "# initial data visualization\n",
    "\n",
    "#data['LONGITUDE]'.plot(kind='box', subplots=True, layout=(2,3), sharex=False, sharey=False)\n",
    "#pyplot.show()\n",
    "\n",
    "# boxplots Longitude\n",
    "plot1 = plt.figure(1)\n",
    "sns.boxplot(x ='BUILDINGID', y = 'LATITUDE', data = data)\n",
    "\n",
    "#boxplot Latitude\n",
    "plot2 = plt.figure(2)\n",
    "sns.boxplot(x ='BUILDINGID', y = 'LONGITUDE', data = data)\n",
    "\n",
    "#boxplot Latitude\n",
    "plot3 = plt.figure(3)\n",
    "sns.boxplot(x ='BUILDINGID', y = 'FLOOR', data = data)"
   ]
  },
  {
   "cell_type": "code",
   "execution_count": 8,
   "metadata": {
    "ExecuteTime": {
     "end_time": "2020-05-13T11:53:01.546708Z",
     "start_time": "2020-05-13T11:53:00.751813Z"
    },
    "hideCode": false,
    "hidePrompt": false
   },
   "outputs": [
    {
     "data": {
      "text/plain": [
       "<matplotlib.axes._subplots.AxesSubplot at 0x1e5e3ceefc8>"
      ]
     },
     "execution_count": 8,
     "metadata": {},
     "output_type": "execute_result"
    },
    {
     "data": {
      "image/png": "[encoded data removed]",
      "text/plain": [
       "<Figure size 432x288 with 1 Axes>"
      ]
     },
     "metadata": {
      "needs_background": "light"
     },
     "output_type": "display_data"
    },
    {
     "data": {
      "image/png": "[encoded data removed]",
      "text/plain": [
       "<Figure size 432x288 with 1 Axes>"
      ]
     },
     "metadata": {
      "needs_background": "light"
     },
     "output_type": "display_data"
    },
    {
     "data": {
      "image/png": "[encoded data removed]",
      "text/plain": [
       "<Figure size 432x288 with 1 Axes>"
      ]
     },
     "metadata": {
      "needs_background": "light"
     },
     "output_type": "display_data"
    },
    {
     "data": {
      "image/png": "[encoded data removed]",
      "text/plain": [
       "<Figure size 432x288 with 1 Axes>"
      ]
     },
     "metadata": {
      "needs_background": "light"
     },
     "output_type": "display_data"
    }
   ],
   "source": [
    "# boxplot RELATIVEPOSITION\n",
    "# boxplots Longitude\n",
    "plot1 = plt.figure(1)\n",
    "sns.boxplot(x ='RELATIVEPOSITION', y = 'LATITUDE', data = data)\n",
    "\n",
    "#boxplot LONGITUDE\n",
    "plot2 = plt.figure(2)\n",
    "sns.boxplot(x ='RELATIVEPOSITION', y = 'LONGITUDE', data = data)\n",
    "\n",
    "#boxplot FLOOR\n",
    "plot3 = plt.figure(3)\n",
    "sns.boxplot(x ='RELATIVEPOSITION', y = 'FLOOR', data = data)\n",
    "\n",
    "#boxplot BUILDINGID\n",
    "plot4 = plt.figure(4)\n",
    "sns.boxplot(x ='RELATIVEPOSITION', y = 'BUILDINGID', data = data)"
   ]
  },
  {
   "cell_type": "code",
   "execution_count": 9,
   "metadata": {
    "ExecuteTime": {
     "end_time": "2020-05-13T11:53:06.264675Z",
     "start_time": "2020-05-13T11:53:03.848455Z"
    },
    "hideCode": false,
    "hidePrompt": false,
    "scrolled": true
   },
   "outputs": [
    {
     "data": {
      "text/plain": [
       "<matplotlib.axes._subplots.AxesSubplot at 0x1e5e474e0c8>"
      ]
     },
     "execution_count": 9,
     "metadata": {},
     "output_type": "execute_result"
    },
    {
     "data": {
      "image/png": "[encoded data removed]",
      "text/plain": [
       "<Figure size 432x288 with 1 Axes>"
      ]
     },
     "metadata": {
      "needs_background": "light"
     },
     "output_type": "display_data"
    },
    {
     "data": {
      "image/png": "[encoded data removed]",
      "text/plain": [
       "<Figure size 432x288 with 1 Axes>"
      ]
     },
     "metadata": {
      "needs_background": "light"
     },
     "output_type": "display_data"
    },
    {
     "data": {
      "image/png": "[encoded data removed]",
      "text/plain": [
       "<Figure size 432x288 with 1 Axes>"
      ]
     },
     "metadata": {
      "needs_background": "light"
     },
     "output_type": "display_data"
    },
    {
     "data": {
      "image/png": "[encoded data removed]",
      "text/plain": [
       "<Figure size 432x288 with 1 Axes>"
      ]
     },
     "metadata": {
      "needs_background": "light"
     },
     "output_type": "display_data"
    }
   ],
   "source": [
    "# boxplot USERID\n",
    "# boxplots Longitude\n",
    "plot1 = plt.figure(1)\n",
    "sns.boxplot(x ='USERID', y = 'LATITUDE', data = data)\n",
    "\n",
    "#boxplot LONGITUDE\n",
    "plot2 = plt.figure(2)\n",
    "sns.boxplot(x ='USERID', y = 'LONGITUDE', data = data)\n",
    "\n",
    "#boxplot FLOOR\n",
    "plot3 = plt.figure(3)\n",
    "sns.boxplot(x ='USERID', y = 'FLOOR', data = data)\n",
    "\n",
    "#boxplot BUILDINGID\n",
    "plot4 = plt.figure(4)\n",
    "sns.boxplot(x ='USERID', y = 'BUILDINGID', data = data)"
   ]
  },
  {
   "cell_type": "code",
   "execution_count": 10,
   "metadata": {
    "ExecuteTime": {
     "end_time": "2020-05-13T11:53:10.276290Z",
     "start_time": "2020-05-13T11:53:07.975806Z"
    },
    "hideCode": false,
    "hidePrompt": false
   },
   "outputs": [
    {
     "data": {
      "text/plain": [
       "<matplotlib.axes._subplots.AxesSubplot at 0x1e5e3ab2fc8>"
      ]
     },
     "execution_count": 10,
     "metadata": {},
     "output_type": "execute_result"
    },
    {
     "data": {
      "image/png": "[encoded data removed]",
      "text/plain": [
       "<Figure size 432x288 with 1 Axes>"
      ]
     },
     "metadata": {
      "needs_background": "light"
     },
     "output_type": "display_data"
    },
    {
     "data": {
      "image/png": "[encoded data removed]",
      "text/plain": [
       "<Figure size 432x288 with 1 Axes>"
      ]
     },
     "metadata": {
      "needs_background": "light"
     },
     "output_type": "display_data"
    },
    {
     "data": {
      "image/png": "[encoded data removed]",
      "text/plain": [
       "<Figure size 432x288 with 1 Axes>"
      ]
     },
     "metadata": {
      "needs_background": "light"
     },
     "output_type": "display_data"
    },
    {
     "data": {
      "image/png": "[encoded data removed]",
      "text/plain": [
       "<Figure size 432x288 with 1 Axes>"
      ]
     },
     "metadata": {
      "needs_background": "light"
     },
     "output_type": "display_data"
    }
   ],
   "source": [
    "# boxplot PHONEID\n",
    "# boxplots Longitude\n",
    "plot1 = plt.figure(1)\n",
    "sns.boxplot(x ='PHONEID', y = 'LATITUDE', data = data)\n",
    "\n",
    "#boxplot LONGITUDE\n",
    "plot2 = plt.figure(2)\n",
    "sns.boxplot(x ='PHONEID', y = 'LONGITUDE', data = data)\n",
    "\n",
    "#boxplot FLOOR\n",
    "plot3 = plt.figure(3)\n",
    "sns.boxplot(x ='PHONEID', y = 'FLOOR', data = data)\n",
    "\n",
    "#boxplot BUILDINGID\n",
    "plot4 = plt.figure(4)\n",
    "sns.boxplot(x ='PHONEID', y = 'BUILDINGID', data = data)"
   ]
  },
  {
   "cell_type": "code",
   "execution_count": 77,
   "metadata": {
    "ExecuteTime": {
     "end_time": "2020-05-14T14:32:00.043365Z",
     "start_time": "2020-05-14T14:32:00.018432Z"
    },
    "hideCode": false,
    "hidePrompt": false
   },
   "outputs": [],
   "source": [
    "bins = np.linspace(min(data['TIMESTAMP']), max(data['TIMESTAMP']),11)\n",
    "\n",
    "group_names = ['1','2','3','4','5','6','7','8','9','10']\n",
    "\n",
    "data['TIMESTAMP_BINNED'] = pd.cut(data['TIMESTAMP'], bins, labels = group_names, include_lowest = True)\n",
    "\n",
    "#print(data['TIMESTAMP_BINNED'].head)\n",
    "\n",
    "#sns.regplot(x = 'TIMESTAMP_BINNED', y = 'LATITUDE', data = data)"
   ]
  },
  {
   "cell_type": "code",
   "execution_count": 80,
   "metadata": {
    "ExecuteTime": {
     "end_time": "2020-05-14T14:42:50.962901Z",
     "start_time": "2020-05-14T14:42:01.539784Z"
    },
    "code_folding": []
   },
   "outputs": [
    {
     "name": "stdout",
     "output_type": "stream",
     "text": [
      "   WAP001  WAP002  WAP003  WAP004  WAP005  WAP006  WAP007  WAP008  WAP009  \\\n",
      "0    -105    -105    -105    -105    -105    -105    -105    -105    -105   \n",
      "1    -105    -105    -105    -105    -105    -105    -105    -105    -105   \n",
      "2    -105    -105    -105    -105    -105    -105    -105     -97    -105   \n",
      "3    -105    -105    -105    -105    -105    -105    -105    -105    -105   \n",
      "4    -105    -105    -105    -105    -105    -105    -105    -105    -105   \n",
      "\n",
      "   WAP010  ...  LONGITUDE      LATITUDE  FLOOR  BUILDINGID  SPACEID  \\\n",
      "0    -105  ... -7541.2643  4.864921e+06      2           1      106   \n",
      "1    -105  ... -7536.6212  4.864934e+06      2           1      106   \n",
      "2    -105  ... -7519.1524  4.864950e+06      2           1      103   \n",
      "3    -105  ... -7524.5704  4.864934e+06      2           1      102   \n",
      "4    -105  ... -7632.1436  4.864982e+06      0           0      122   \n",
      "\n",
      "   RELATIVEPOSITION  USERID  PHONEID   TIMESTAMP  TIMESTAMP_BINNED  \n",
      "0                 2       2       23  1371713733                10  \n",
      "1                 2       2       23  1371713691                10  \n",
      "2                 2       2       23  1371714095                10  \n",
      "3                 2       2       23  1371713807                10  \n",
      "4                 2      11       13  1369909710                 1  \n",
      "\n",
      "[5 rows x 530 columns]\n",
      "    WAP001  WAP002  WAP003  WAP004  WAP005  WAP006  WAP007  WAP008  WAP009  \\\n",
      "0     -105    -105    -105    -105    -105    -105    -105    -105    -105   \n",
      "1     -105    -105    -105    -105    -105    -105    -105    -105    -105   \n",
      "2     -105    -105    -105    -105    -105    -105    -105     -97    -105   \n",
      "3     -105    -105    -105    -105    -105    -105    -105    -105    -105   \n",
      "4     -105    -105    -105    -105    -105    -105    -105    -105    -105   \n",
      "5     -105    -105    -105    -105    -105    -105    -105    -105    -105   \n",
      "6     -105    -105    -105    -105    -105    -105    -105    -105    -105   \n",
      "7     -105    -105    -105    -105    -105    -105    -105    -105    -105   \n",
      "8     -105    -105    -105    -105    -105    -105    -105    -105    -105   \n",
      "9     -105    -105    -105    -105    -105    -105    -105    -105    -105   \n",
      "10    -105    -105    -105    -105    -105    -105    -105     -83    -105   \n",
      "11    -105    -105    -105    -105    -105    -105    -105     -90    -105   \n",
      "12    -105    -105    -105    -105    -105    -105    -105    -105    -105   \n",
      "13    -105    -105    -105    -105    -105    -105    -105    -105    -105   \n",
      "14    -105    -105    -105    -105    -105    -105    -105    -105    -105   \n",
      "\n",
      "    WAP010  ...    LONGITUDE      LATITUDE  FLOOR  BUILDINGID  SPACEID  \\\n",
      "0     -105  ... -7541.264300  4.864921e+06      2           1      106   \n",
      "1     -105  ... -7536.621200  4.864934e+06      2           1      106   \n",
      "2     -105  ... -7519.152400  4.864950e+06      2           1      103   \n",
      "3     -105  ... -7524.570400  4.864934e+06      2           1      102   \n",
      "4     -105  ... -7632.143600  4.864982e+06      0           0      122   \n",
      "5     -105  ... -7533.896200  4.864939e+06      2           1      105   \n",
      "6     -105  ... -7519.152400  4.864950e+06      2           1      103   \n",
      "7     -105  ... -7527.451100  4.864929e+06      2           1      101   \n",
      "8     -105  ... -7559.497300  4.864888e+06      2           1      112   \n",
      "9     -105  ... -7510.437173  4.864949e+06      2           1      103   \n",
      "10    -105  ... -7528.816402  4.864959e+06      2           1      104   \n",
      "11    -105  ... -7523.628200  4.864952e+06      2           1      104   \n",
      "12    -105  ... -7571.093400  4.864872e+06      2           1      110   \n",
      "13    -105  ... -7559.782000  4.864871e+06      2           1      108   \n",
      "14    -105  ... -7562.186200  4.864867e+06      2           1      109   \n",
      "\n",
      "    RELATIVEPOSITION  USERID  PHONEID   TIMESTAMP  TIMESTAMP_BINNED  \n",
      "0                  2       2       23  1371713733                10  \n",
      "1                  2       2       23  1371713691                10  \n",
      "2                  2       2       23  1371714095                10  \n",
      "3                  2       2       23  1371713807                10  \n",
      "4                  2      11       13  1369909710                 1  \n",
      "5                  2       2       23  1371713841                10  \n",
      "6                  2       2       23  1371713883                10  \n",
      "7                  2       2       23  1371713775                10  \n",
      "8                  2       2       23  1371714307                10  \n",
      "9                  1       2       23  1371714128                10  \n",
      "10                 1       2       23  1371714200                10  \n",
      "11                 2       2       23  1371714166                10  \n",
      "12                 2       2       23  1371714393                10  \n",
      "13                 2       2       23  1371714467                10  \n",
      "14                 2       2       23  1371714433                10  \n",
      "\n",
      "[15 rows x 530 columns]\n",
      "     WAP001    WAP002    WAP003    WAP004    WAP005    WAP006    WAP007  \\\n",
      "0  0.001940  0.001940  0.001940  0.001940  0.001940  0.001940  0.001940   \n",
      "1  0.001939  0.001939  0.001939  0.001939  0.001939  0.001939  0.001939   \n",
      "2  0.001935  0.001935  0.001935  0.001935  0.001935  0.001935  0.001935   \n",
      "3  0.001939  0.001939  0.001939  0.001939  0.001939  0.001939  0.001939   \n",
      "4  0.001923  0.001923  0.001923  0.001923  0.001923  0.001923  0.001923   \n",
      "\n",
      "     WAP008    WAP009    WAP010  ...  LONGITUDE      LATITUDE  FLOOR  \\\n",
      "0  0.001940  0.001940  0.001940  ... -7541.2643  4.864921e+06      2   \n",
      "1  0.001939  0.001939  0.001939  ... -7536.6212  4.864934e+06      2   \n",
      "2  0.001787  0.001935  0.001935  ... -7519.1524  4.864950e+06      2   \n",
      "3  0.001939  0.001939  0.001939  ... -7524.5704  4.864934e+06      2   \n",
      "4  0.001923  0.001923  0.001923  ... -7632.1436  4.864982e+06      0   \n",
      "\n",
      "   BUILDINGID  SPACEID  RELATIVEPOSITION  USERID  PHONEID   TIMESTAMP  \\\n",
      "0           1      106                 2       2       23  1371713733   \n",
      "1           1      106                 2       2       23  1371713691   \n",
      "2           1      103                 2       2       23  1371714095   \n",
      "3           1      102                 2       2       23  1371713807   \n",
      "4           0      122                 2      11       13  1369909710   \n",
      "\n",
      "   TIMESTAMP_BINNED  \n",
      "0                10  \n",
      "1                10  \n",
      "2                10  \n",
      "3                10  \n",
      "4                 1  \n",
      "\n",
      "[5 rows x 530 columns]\n"
     ]
    }
   ],
   "source": [
    "# preprocess data\n",
    "print(data.head())\n",
    "\n",
    "#replace 100 by -105\n",
    "data.iloc[:,0:520] = data.replace(to_replace = 100, value = -105)\n",
    "\n",
    "print(data.head(15))\n",
    "\n",
    "#covert power from dBm to mW\n",
    "\n",
    "#data.iloc[:,0:520] = (10**(data.iloc[:,0:520]/10))*100000000\n",
    "\n",
    "#print(data.head(15))\n",
    "\n",
    "#standardize by row\n",
    "data.iloc[:,0:520] = data.iloc[:,0:520].div(data.iloc[:,0:520].sum(axis = 1), axis = 0)\n",
    "\n",
    "print(data.head())"
   ]
  },
  {
   "cell_type": "code",
   "execution_count": null,
   "metadata": {},
   "outputs": [],
   "source": [
    "# hyper-parameter optimization\n"
   ]
  },
  {
   "cell_type": "code",
   "execution_count": 81,
   "metadata": {
    "ExecuteTime": {
     "end_time": "2020-05-14T15:19:08.151062Z",
     "start_time": "2020-05-14T15:19:04.682097Z"
    },
    "hideCode": false,
    "hidePrompt": false
   },
   "outputs": [
    {
     "name": "stdout",
     "output_type": "stream",
     "text": [
      "(15949, 520)\n",
      "(3988, 520)\n",
      "(15949,)\n",
      "(3988,)\n",
      "(15949,)\n",
      "(3988,)\n",
      "(15949,)\n",
      "(3988,)\n",
      "(15949,)\n",
      "(3988,)\n",
      "         WAP001    WAP002    WAP003    WAP004    WAP005    WAP006    WAP007  \\\n",
      "5289   0.001938  0.001938  0.001938  0.001938  0.001938  0.001938  0.001938   \n",
      "13936  0.001942  0.001942  0.001942  0.001942  0.001942  0.001942  0.001942   \n",
      "12562  0.001940  0.001940  0.001940  0.001940  0.001940  0.001940  0.001940   \n",
      "18247  0.001941  0.001941  0.001941  0.001941  0.001941  0.001941  0.001941   \n",
      "2788   0.001938  0.001938  0.001938  0.001938  0.001938  0.001938  0.001938   \n",
      "2494   0.001939  0.001939  0.001939  0.001939  0.001939  0.001939  0.001939   \n",
      "1310   0.001936  0.001936  0.001936  0.001936  0.001936  0.001936  0.001936   \n",
      "11410  0.001933  0.001933  0.001933  0.001933  0.001933  0.001933  0.001933   \n",
      "8039   0.001935  0.001935  0.001935  0.001935  0.001935  0.001935  0.001622   \n",
      "8638   0.001937  0.001937  0.001937  0.001937  0.001937  0.001937  0.001937   \n",
      "\n",
      "         WAP008    WAP009    WAP010  ...    WAP512    WAP513    WAP514  \\\n",
      "5289   0.001938  0.001938  0.001938  ...  0.001938  0.001938  0.001938   \n",
      "13936  0.001942  0.001942  0.001942  ...  0.001942  0.001942  0.001942   \n",
      "12562  0.001940  0.001940  0.001940  ...  0.001940  0.001940  0.001940   \n",
      "18247  0.001941  0.001645  0.001941  ...  0.001941  0.001941  0.001941   \n",
      "2788   0.001938  0.001938  0.001938  ...  0.001938  0.001938  0.001938   \n",
      "2494   0.001939  0.001939  0.001939  ...  0.001939  0.001939  0.001939   \n",
      "1310   0.001936  0.001936  0.001936  ...  0.001936  0.001936  0.001936   \n",
      "11410  0.001933  0.001933  0.001933  ...  0.001933  0.001933  0.001933   \n",
      "8039   0.001935  0.001935  0.001935  ...  0.001935  0.001935  0.001935   \n",
      "8638   0.001937  0.001937  0.001937  ...  0.001937  0.001937  0.001937   \n",
      "\n",
      "         WAP515    WAP516    WAP517    WAP518    WAP519    WAP520    LONGITUDE  \n",
      "5289   0.001938  0.001938  0.001938  0.001938  0.001938  0.001938 -7404.835700  \n",
      "13936  0.001942  0.001942  0.001942  0.001942  0.001942  0.001942 -7568.861000  \n",
      "12562  0.001940  0.001940  0.001368  0.001940  0.001940  0.001940 -7359.148500  \n",
      "18247  0.001941  0.001941  0.001941  0.001941  0.001941  0.001941 -7645.088700  \n",
      "2788   0.001938  0.001938  0.001938  0.001938  0.001938  0.001938 -7362.526500  \n",
      "2494   0.001939  0.001939  0.001939  0.001939  0.001939  0.001939 -7361.540700  \n",
      "1310   0.001936  0.001936  0.001936  0.001936  0.001936  0.001936 -7516.615392  \n",
      "11410  0.001933  0.001933  0.001933  0.001933  0.001933  0.001933 -7637.002300  \n",
      "8039   0.001935  0.001935  0.001935  0.001935  0.001935  0.001935 -7682.543800  \n",
      "8638   0.001937  0.001937  0.001937  0.001937  0.001937  0.001937 -7603.154500  \n",
      "\n",
      "[10 rows x 521 columns]\n",
      "(797, 521)\n",
      "         WAP001    WAP002    WAP003    WAP004    WAP005    WAP006    WAP007  \\\n",
      "7642   0.001941  0.001941  0.001941  0.001941  0.001941  0.001941  0.001941   \n",
      "13449  0.001940  0.001940  0.001940  0.001940  0.001940  0.001940  0.001940   \n",
      "11923  0.001956  0.001956  0.001956  0.001956  0.001956  0.001956  0.001956   \n",
      "574    0.001933  0.001933  0.001933  0.001933  0.001933  0.001933  0.001933   \n",
      "124    0.001945  0.001945  0.001945  0.001945  0.001945  0.001945  0.001945   \n",
      "431    0.001937  0.001937  0.001937  0.001937  0.001937  0.001937  0.001937   \n",
      "18955  0.001960  0.001960  0.001960  0.001960  0.001960  0.001960  0.001960   \n",
      "15393  0.001937  0.001937  0.001937  0.001937  0.001937  0.001937  0.001937   \n",
      "7116   0.001940  0.001940  0.001940  0.001940  0.001940  0.001940  0.001940   \n",
      "5189   0.001949  0.001949  0.001949  0.001949  0.001949  0.001949  0.001949   \n",
      "\n",
      "         WAP008    WAP009    WAP010  ...    WAP512    WAP513    WAP514  \\\n",
      "7642   0.001941  0.001941  0.001941  ...  0.001941  0.001941  0.001941   \n",
      "13449  0.001940  0.001940  0.001940  ...  0.001940  0.001940  0.001940   \n",
      "11923  0.001956  0.001956  0.001956  ...  0.001956  0.001956  0.001956   \n",
      "574    0.001933  0.001933  0.001933  ...  0.001933  0.001933  0.001933   \n",
      "124    0.001945  0.001945  0.001945  ...  0.001945  0.001945  0.001945   \n",
      "431    0.001937  0.001937  0.001937  ...  0.001937  0.001937  0.001937   \n",
      "18955  0.001960  0.001960  0.001960  ...  0.001960  0.001643  0.001400   \n",
      "15393  0.001937  0.001937  0.001937  ...  0.001937  0.001937  0.001937   \n",
      "7116   0.001940  0.001940  0.001940  ...  0.001940  0.001940  0.001940   \n",
      "5189   0.001949  0.001949  0.001949  ...  0.001949  0.001949  0.001949   \n",
      "\n",
      "         WAP515    WAP516    WAP517    WAP518    WAP519    WAP520  \\\n",
      "7642   0.001941  0.001941  0.001941  0.001941  0.001941  0.001941   \n",
      "13449  0.001940  0.001940  0.001940  0.001940  0.001940  0.001940   \n",
      "11923  0.001956  0.001024  0.001509  0.001956  0.001956  0.001956   \n",
      "574    0.001933  0.001933  0.001933  0.001933  0.001933  0.001933   \n",
      "124    0.001945  0.001945  0.001945  0.001945  0.001945  0.001945   \n",
      "431    0.001937  0.001937  0.001937  0.001937  0.001937  0.001937   \n",
      "18955  0.001960  0.001960  0.001195  0.001960  0.001960  0.001960   \n",
      "15393  0.001937  0.001937  0.001937  0.001937  0.001937  0.001937   \n",
      "7116   0.001940  0.001312  0.001533  0.001940  0.001940  0.001940   \n",
      "5189   0.001949  0.001633  0.001336  0.001949  0.001949  0.001949   \n",
      "\n",
      "           LATITUDE  \n",
      "7642   4.864939e+06  \n",
      "13449  4.864867e+06  \n",
      "11923  4.864813e+06  \n",
      "574    4.864895e+06  \n",
      "124    4.864888e+06  \n",
      "431    4.864762e+06  \n",
      "18955  4.864830e+06  \n",
      "15393  4.864881e+06  \n",
      "7116   4.864794e+06  \n",
      "5189   4.864759e+06  \n",
      "\n",
      "[10 rows x 521 columns]\n",
      "(797, 521)\n",
      "         WAP001    WAP002    WAP003    WAP004    WAP005    WAP006    WAP007  \\\n",
      "19916  0.001936  0.001936  0.001936  0.001936  0.001936  0.001936  0.001936   \n",
      "2467   0.001956  0.001956  0.001956  0.001956  0.001956  0.001956  0.001956   \n",
      "14089  0.001945  0.001945  0.001945  0.001945  0.001945  0.001945  0.001945   \n",
      "11043  0.001929  0.001929  0.001929  0.001929  0.001929  0.001929  0.001929   \n",
      "12332  0.001959  0.001959  0.001959  0.001959  0.001959  0.001959  0.001959   \n",
      "6633   0.001933  0.001933  0.001933  0.001933  0.001933  0.001933  0.001933   \n",
      "14136  0.001942  0.001942  0.001942  0.001942  0.001942  0.001942  0.001942   \n",
      "4048   0.001943  0.001943  0.001943  0.001943  0.001943  0.001943  0.001943   \n",
      "11913  0.001941  0.001941  0.001941  0.001941  0.001941  0.001941  0.001941   \n",
      "18219  0.001943  0.001943  0.001943  0.001943  0.001943  0.001943  0.001943   \n",
      "\n",
      "         WAP008    WAP009    WAP010  ...    WAP512    WAP513    WAP514  \\\n",
      "19916  0.001936  0.001936  0.001936  ...  0.001936  0.001936  0.001936   \n",
      "2467   0.001956  0.001956  0.001956  ...  0.001956  0.001956  0.001956   \n",
      "14089  0.001945  0.001945  0.001945  ...  0.001945  0.001945  0.001945   \n",
      "11043  0.001929  0.001929  0.001929  ...  0.001929  0.001929  0.001929   \n",
      "12332  0.001959  0.001959  0.001679  ...  0.001959  0.001959  0.001959   \n",
      "6633   0.001933  0.001933  0.001933  ...  0.001933  0.001933  0.001933   \n",
      "14136  0.001942  0.001942  0.001942  ...  0.001942  0.001942  0.001942   \n",
      "4048   0.001943  0.001943  0.001943  ...  0.001943  0.001943  0.001943   \n",
      "11913  0.001941  0.001941  0.001941  ...  0.001941  0.001941  0.001941   \n",
      "18219  0.001943  0.001240  0.001943  ...  0.001943  0.001943  0.001943   \n",
      "\n",
      "         WAP515    WAP516    WAP517    WAP518    WAP519    WAP520  FLOOR  \n",
      "19916  0.001936  0.001936  0.001567  0.001936  0.001936  0.001936      1  \n",
      "2467   0.001956  0.001956  0.001956  0.001956  0.001956  0.001956      3  \n",
      "14089  0.001945  0.001945  0.001352  0.001945  0.001945  0.001945      2  \n",
      "11043  0.001929  0.001929  0.001929  0.001929  0.001929  0.001929      3  \n",
      "12332  0.001959  0.001959  0.001959  0.001959  0.001959  0.001959      1  \n",
      "6633   0.001933  0.001455  0.001565  0.001933  0.001933  0.001933      0  \n",
      "14136  0.001942  0.001942  0.001461  0.001942  0.001942  0.001942      3  \n",
      "4048   0.001943  0.001129  0.001943  0.001943  0.001943  0.001943      1  \n",
      "11913  0.001941  0.001941  0.001941  0.001941  0.001941  0.001941      1  \n",
      "18219  0.001943  0.001943  0.001943  0.001943  0.001943  0.001943      3  \n",
      "\n",
      "[10 rows x 521 columns]\n",
      "(797, 521)\n",
      "         WAP001    WAP002    WAP003    WAP004    WAP005    WAP006    WAP007  \\\n",
      "6504   0.001933  0.001933  0.001933  0.001933  0.001933  0.001933  0.001933   \n",
      "2154   0.001940  0.001940  0.001940  0.001940  0.001940  0.001940  0.001940   \n",
      "9384   0.001932  0.001932  0.001932  0.001932  0.001932  0.001932  0.001546   \n",
      "7628   0.001936  0.001936  0.001936  0.001936  0.001936  0.001936  0.001678   \n",
      "17528  0.001937  0.001937  0.001937  0.001937  0.001937  0.001937  0.001937   \n",
      "16317  0.001930  0.001930  0.001930  0.001930  0.001930  0.001930  0.001930   \n",
      "12581  0.001957  0.001957  0.001957  0.001957  0.001957  0.001957  0.001957   \n",
      "10666  0.001937  0.001937  0.001937  0.001937  0.001937  0.001937  0.001937   \n",
      "19730  0.001932  0.001932  0.001932  0.001932  0.001932  0.001932  0.001932   \n",
      "12058  0.001949  0.001949  0.001949  0.001949  0.001949  0.001949  0.001949   \n",
      "\n",
      "         WAP008    WAP009    WAP010  ...    WAP512    WAP513    WAP514  \\\n",
      "6504   0.001933  0.001933  0.001933  ...  0.001933  0.001933  0.001933   \n",
      "2154   0.001940  0.001940  0.001940  ...  0.001940  0.001940  0.001940   \n",
      "9384   0.001932  0.001932  0.001932  ...  0.001932  0.001932  0.001932   \n",
      "7628   0.001936  0.001936  0.001936  ...  0.001936  0.001936  0.001936   \n",
      "17528  0.001937  0.001937  0.001937  ...  0.001937  0.001937  0.001937   \n",
      "16317  0.001930  0.001636  0.001930  ...  0.001930  0.001930  0.001930   \n",
      "12581  0.001957  0.001957  0.001678  ...  0.001957  0.001957  0.001957   \n",
      "10666  0.001937  0.001937  0.001937  ...  0.001937  0.001937  0.001937   \n",
      "19730  0.001932  0.001932  0.001932  ...  0.001932  0.001932  0.001932   \n",
      "12058  0.001949  0.001949  0.001949  ...  0.001949  0.001949  0.001949   \n",
      "\n",
      "         WAP515    WAP516    WAP517    WAP518    WAP519    WAP520  BUILDINGID  \n",
      "6504   0.001933  0.001933  0.001933  0.001933  0.001933  0.001933           1  \n",
      "2154   0.001940  0.001940  0.001940  0.001940  0.001940  0.001940           2  \n",
      "9384   0.001932  0.001932  0.001932  0.001932  0.001932  0.001932           0  \n",
      "7628   0.001936  0.001936  0.001936  0.001936  0.001936  0.001936           0  \n",
      "17528  0.001937  0.001937  0.001937  0.001937  0.001937  0.001937           0  \n",
      "16317  0.001930  0.001930  0.001930  0.001930  0.001930  0.001930           0  \n",
      "12581  0.001957  0.001957  0.001957  0.001957  0.001957  0.001957           1  \n",
      "10666  0.001937  0.001457  0.001218  0.001937  0.001937  0.001937           2  \n",
      "19730  0.001932  0.001932  0.001932  0.001932  0.001932  0.001932           1  \n",
      "12058  0.001949  0.000780  0.001429  0.001949  0.001949  0.001949           2  \n",
      "\n",
      "[10 rows x 521 columns]\n",
      "(797, 521)\n"
     ]
    }
   ],
   "source": [
    "# select & splitt data\n",
    "\n",
    "array = data.values\n",
    "\n",
    "# X should include all columns from 0 to 528 excluding columns 520 to 525\n",
    "X = data.iloc[:,0:520]\n",
    "\n",
    "# Y should includa only columns from 520 to 523\n",
    "Y_Log = data.iloc[:,520]\n",
    "Y_Lat = data.iloc[:,521]\n",
    "Y_Flo = data.iloc[:,522]\n",
    "Y_BuID = data.iloc[:,523]\n",
    "\n",
    "# Train_test split per dependent variable (Y)\n",
    "X_train, X_validation, Y_Log_train, Y_Log_Validation = train_test_split(X,Y_Log,test_size = 0.2, random_state = 1)\n",
    "\n",
    "X_train, X_validation, Y_Lat_train, Y_Lat_Validation = train_test_split(X,Y_Lat,test_size = 0.2, random_state = 1)\n",
    "\n",
    "X_train, X_validation, Y_Flo_train, Y_Flo_Validation = train_test_split(X,Y_Flo,test_size = 0.2, random_state = 1)\n",
    "\n",
    "X_train, X_validation, Y_BuID_train, Y_BuID_Validation = train_test_split(X,Y_BuID,test_size = 0.2, random_state = 1)\n",
    "\n",
    "print(X_train.shape), print(X_validation.shape)\n",
    "\n",
    "print (Y_Log_train.shape), print(Y_Log_Validation.shape)\n",
    "print(Y_Lat_train.shape), print(Y_Lat_Validation.shape)\n",
    "print(Y_Flo_train.shape), print(Y_Flo_Validation.shape)\n",
    "print(Y_BuID_train.shape), print(Y_BuID_Validation.shape)\n",
    "\n",
    "#Y_Log_train_sample = Y_BuID_train.sample(frac = 0.05)\n",
    "#Y_Lat_train_sample = Y_BuID_train.sample(frac = 0.05)\n",
    "#Y_Flo_train_sample = Y_BuID_train.sample(frac = 0.05)\n",
    "#Y_BuID_train_sample = Y_BuID_train.sample(frac = 0.05)\n",
    "\n",
    "#print(Y_Log_train_sample.shape)\n",
    "#print(Y_Lat_train_sample.shape)\n",
    "#print(Y_Flo_train_sample.shape)\n",
    "#print(Y_BuID_train_sample.shape)\n",
    "\n",
    "Log_train_Sample = pd.concat([X_train, Y_Log_train], axis = 1). sample(frac = 0.05)\n",
    "Lat_train_Sample = pd.concat([X_train, Y_Lat_train], axis = 1). sample(frac = 0.05)\n",
    "Flo_train_Sample = pd.concat([X_train, Y_Flo_train], axis = 1). sample(frac = 0.05)\n",
    "BuID_train_Sample = pd.concat([X_train, Y_BuID_train], axis = 1).sample(frac = 0.05)\n",
    "\n",
    "print(Log_train_Sample.head(10))\n",
    "print(Log_train_Sample.shape)\n",
    "print(Lat_train_Sample.head(10))\n",
    "print(Lat_train_Sample.shape)\n",
    "print(Flo_train_Sample.head(10))\n",
    "print(Flo_train_Sample.shape)\n",
    "print(BuID_train_Sample.head(10))\n",
    "print(BuID_train_Sample.shape)\n",
    "\n",
    "Log_X_train_Sample = Log_train_Sample.iloc[:,0:520]\n",
    "Log_Y_train_Sample = Log_train_Sample.iloc[:,520]\n",
    "\n",
    "Lat_X_train_Sample = Lat_train_Sample.iloc[:,0:520]\n",
    "Lat_Y_train_Sample = Lat_train_Sample.iloc[:,520]\n",
    "\n",
    "Flo_X_train_Sample = Flo_train_Sample.iloc[:,0:520]\n",
    "Flo_Y_train_Sample = Flo_train_Sample.iloc[:,520]\n",
    "\n",
    "BuID_X_train_Sample = BuID_train_Sample.iloc[:,0:520]\n",
    "BuID_Y_train_Sample = BuID_train_Sample.iloc[:,520]\n",
    "\n",
    "#print(Flo_Y_train_Sample)\n",
    "#print(type(Flo_Y_train_Sample))\n",
    "#print(Flo_Y_train_Sample.head(10))\n",
    "\n",
    "#print(Log_Y_train_Sample)\n",
    "#print(type(Log_Y_train_Sample))\n",
    "#print(Log_Y_train_Sample.head(10))\n",
    "#print(type(Log_X_train_Sample))\n",
    "#print(Log_X_train_Sample.head(10))\n"
   ]
  },
  {
   "cell_type": "code",
   "execution_count": 270,
   "metadata": {
    "ExecuteTime": {
     "end_time": "2020-05-20T23:58:02.223724Z",
     "start_time": "2020-05-20T22:12:54.993814Z"
    },
    "scrolled": true
   },
   "outputs": [
    {
     "name": "stdout",
     "output_type": "stream",
     "text": [
      "RF RandomForestRegressor(bootstrap=True, ccp_alpha=0.0, criterion='mse',\n",
      "                      max_depth=None, max_features='auto', max_leaf_nodes=None,\n",
      "                      max_samples=None, min_impurity_decrease=0.0,\n",
      "                      min_impurity_split=None, min_samples_leaf=1,\n",
      "                      min_samples_split=2, min_weight_fraction_leaf=0.0,\n",
      "                      n_estimators=100, n_jobs=None, oob_score=False,\n",
      "                      random_state=None, verbose=0, warm_start=False)\n",
      "RF: -72.108196 (16.921377)\n"
     ]
    }
   ],
   "source": [
    "#Models Longitude (with sample data)\n",
    "\n",
    "# build models \n",
    "models =[]\n",
    "\n",
    "#models.append(('KNNRG', KNeighborsRegressor(leaf_size = 2, n_neighbors=4, p = 1)))\n",
    "models.append(('RF', RandomForestRegressor(n_estimators=100)))\n",
    "#models.append(('RIDGE', Ridge(alpha=.5)))\n",
    "#models.append(('SVM2', svm.SVR()))\n",
    "\n",
    "#models.append(('CART', DecisionTreeRegressor()))\n",
    "#models.append(('RF', RandomForestRegressor(n_estimators=400)))\n",
    "#models.append(('SVM2', svm.SVR(kernel = 'linear', C = 1)))\n",
    "#models.append(('SVM3', svm.LinearSVR(C = 1, max_iter = 1000)))\n",
    "#models.append(('SVM4', svm.SVR(kernel = 'rbf', gamma = 0.7, C = 1)))\n",
    "#models.append(('SVM5', svm.SVR(kernel = 'poly', degree = 10, gamma = 'auto', C = 1)))\n",
    "#models.append(('SGD', SGDRegressor()))\n",
    "\n",
    "# evaluate each model in turn\n",
    "results = []\n",
    "names = []\n",
    "for name, model in models:\n",
    "    print (name, model)\n",
    "    kfold = StratifiedKFold(n_splits=10, random_state=1, shuffle=True)\n",
    "    cv_results = cross_val_score(model, X = X_train, y = Y_Log_train, cv=10, scoring='neg_mean_squared_error')\n",
    "    results.append(cv_results)\n",
    "    names.append(name)\n",
    "    \n",
    "    print('%s: %f (%f)' % (name, cv_results.mean(), cv_results.std()))\n",
    "    "
   ]
  },
  {
   "cell_type": "code",
   "execution_count": 268,
   "metadata": {
    "ExecuteTime": {
     "end_time": "2020-05-20T16:49:09.158647Z",
     "start_time": "2020-05-20T13:54:11.505266Z"
    }
   },
   "outputs": [
    {
     "name": "stdout",
     "output_type": "stream",
     "text": [
      "Best leaf size: 2\n",
      "Best p: 1\n",
      "Best n_neighbors: 4\n"
     ]
    }
   ],
   "source": [
    "# Hyperparameter Tuning KNNRG for Longitude\n",
    "\n",
    "#List Hyperparameter to tune\n",
    "leaf_size = list(range(1,8))\n",
    "n_neighbors = list(range(1,8))\n",
    "p = [1,2]\n",
    "\n",
    "#Convert to dictionary\n",
    "hyperparameters = dict(leaf_size = leaf_size,\n",
    "n_neighbors = n_neighbors, p = p)\n",
    "\n",
    "#Create new KNN object\n",
    "knn_1 = KNeighborsRegressor()\n",
    "\n",
    "#Use GridSearch\n",
    "clf1 = GridSearchCV(knn_1, hyperparameters, cv = 10, n_jobs = -1)\n",
    "\n",
    "#Fit the model\n",
    "best_model = clf1.fit(X_train,Y_Log_train)\n",
    "\n",
    "#Print the values of the best Hyperparameters\n",
    "print('Best leaf size:', best_model.best_estimator_.get_params()['leaf_size'])\n",
    "print('Best p:', best_model.best_estimator_.get_params()['p'])\n",
    "print('Best n_neighbors:', best_model.best_estimator_.get_params()['n_neighbors'])"
   ]
  },
  {
   "cell_type": "code",
   "execution_count": 260,
   "metadata": {
    "ExecuteTime": {
     "end_time": "2020-05-20T08:33:09.364448Z",
     "start_time": "2020-05-20T08:31:03.453025Z"
    }
   },
   "outputs": [
    {
     "name": "stdout",
     "output_type": "stream",
     "text": [
      "KNNRG KNeighborsRegressor(algorithm='auto', leaf_size=1, metric='minkowski',\n",
      "                    metric_params=None, n_jobs=None, n_neighbors=3, p=1,\n",
      "                    weights='uniform')\n",
      "KNNRG: -24.377867 (8.098126)\n"
     ]
    }
   ],
   "source": [
    "#Models Latitude (with sample data)\n",
    "from sklearn.tree import DecisionTreeRegressor\n",
    "from sklearn.ensemble import RandomForestRegressor\n",
    "from sklearn.linear_model import SGDRegressor\n",
    "\n",
    "models =[]\n",
    "\n",
    "models.append(('KNNRG', KNeighborsRegressor(leaf_size = 1, n_neighbors=3, p = 1)))\n",
    "#models.append(('RIDGE', Ridge(alpha=.5)))\n",
    "#models.append(('SVM2', svm.SVR()))\n",
    "\n",
    "#models.append(('CART', DecisionTreeRegressor()))\n",
    "#models.append(('RF', RandomForestRegressor(n_estimators=400)))\n",
    "#models.append(('SVM2', svm.SVR(kernel = 'linear', C = 1)))\n",
    "#models.append(('SVM3', svm.LinearSVR(C = 1, max_iter = 1000)))\n",
    "#models.append(('SVM4', svm.SVR(kernel = 'rbf', gamma = 0.7, C = 1)))\n",
    "#models.append(('SVM5', svm.SVR(kernel = 'poly', degree = 10, gamma = 'auto', C = 1)))\n",
    "#models.append(('SGD', SGDRegressor()))\n",
    "\n",
    "# evaluate each model in turn\n",
    "results = []\n",
    "names = []\n",
    "for name, model in models:\n",
    "    print (name, model)\n",
    "    cv_results = cross_val_score(model, X = X_train, y = Y_Lat_train, cv=10, scoring='neg_mean_squared_error')\n",
    "    results.append(cv_results)\n",
    "    names.append(name)\n",
    "    \n",
    "    print('%s: %f (%f)' % (name, cv_results.mean(), cv_results.std()))"
   ]
  },
  {
   "cell_type": "code",
   "execution_count": 256,
   "metadata": {
    "ExecuteTime": {
     "end_time": "2020-05-20T00:16:04.873880Z",
     "start_time": "2020-05-19T21:22:20.459794Z"
    }
   },
   "outputs": [
    {
     "name": "stdout",
     "output_type": "stream",
     "text": [
      "Best leaf size: 1\n",
      "Best p: 1\n",
      "Best n_neighbors: 3\n"
     ]
    }
   ],
   "source": [
    "#Hyperparameter Tuning KNNRG for Latitude\n",
    "\n",
    "#List Hyperparameter to tune\n",
    "leaf_size = list(range(1,8))\n",
    "n_neighbors = list(range(1,8))\n",
    "p = [1,2]\n",
    "\n",
    "#Convert to dictionary\n",
    "hyperparameters = dict(leaf_size = leaf_size,\n",
    "n_neighbors = n_neighbors, p = p)\n",
    "\n",
    "#Create new KNN object\n",
    "knn_2 = KNeighborsRegressor()\n",
    "\n",
    "#Use GridSearch\n",
    "clf2 = GridSearchCV(knn_2, hyperparameters, cv = 10, n_jobs = -1)\n",
    "\n",
    "#Fit the model\n",
    "best_model = clf2.fit(X_train,Y_Lat_train)\n",
    "\n",
    "#Print the values of the best Hyperparameters\n",
    "print('Best leaf size:', best_model.best_estimator_.get_params()['leaf_size'])\n",
    "print('Best p:', best_model.best_estimator_.get_params()['p'])\n",
    "print('Best n_neighbors:', best_model.best_estimator_.get_params()['n_neighbors'])"
   ]
  },
  {
   "cell_type": "code",
   "execution_count": 263,
   "metadata": {
    "ExecuteTime": {
     "end_time": "2020-05-20T13:41:58.411596Z",
     "start_time": "2020-05-20T13:36:01.612766Z"
    }
   },
   "outputs": [
    {
     "name": "stdout",
     "output_type": "stream",
     "text": [
      "KNN: 0.996614 (0.001321)\n"
     ]
    }
   ],
   "source": [
    "#Models Floor (with sample data)\n",
    "from sklearn import svm\n",
    "\n",
    "from sklearn.linear_model import SGDClassifier\n",
    "\n",
    "# build models \n",
    "models =[]\n",
    "\n",
    "models.append(('KNN', KNeighborsClassifier(leaf_size = 1, n_neighbors = 1, p = 2)))\n",
    "#models.append(('CART', DecisionTreeClassifier()))\n",
    "#models.append(('RF', RandomForestClassifier(n_estimators=400)))\n",
    "#models.append(('SGD', SGDClassifier(loss = 'squared_hinge', penalty = 'l2', max_iter = 20, alpha = 0.0005)))\n",
    "\n",
    "#models.append(('LR', LogisticRegression(solver='liblinear', multi_class='ovr')))\n",
    "#models.append(('LDA', LinearDiscriminantAnalysis()))\n",
    "#models.append(('NB', GaussianNB()))\n",
    "#models.append(('SVM', SVC(gamma='auto')))\n",
    "#models.append(('SVM2', svm.SVC(kernel = 'linear', C = 1)))\n",
    "#models.append(('SVM3', svm.LinearSVC(C = 1, max_iter = 10000)))\n",
    "#models.append(('SVM4', svm.SVC(kernel = 'rbf', gamma = 0.7, C = 1)))\n",
    "#models.append(('SVM5', svm.SVC(kernel = 'poly', degree = 10, gamma = 'auto', C = 1)))\n",
    "\n",
    "# evaluate each model in turn\n",
    "results = []\n",
    "names = []\n",
    "for name, model in models:\n",
    "    kfold = StratifiedKFold(n_splits=10, random_state=1, shuffle=True)\n",
    "    cv_results = cross_val_score(model,X_train, Y_Flo_train, cv=kfold, scoring='accuracy')\n",
    "    results.append(cv_results)\n",
    "    names.append(name)\n",
    "    \n",
    "    print('%s: %f (%f)' % (name, cv_results.mean(), cv_results.std()))"
   ]
  },
  {
   "cell_type": "code",
   "execution_count": 262,
   "metadata": {
    "ExecuteTime": {
     "end_time": "2020-05-20T13:32:36.015318Z",
     "start_time": "2020-05-20T10:31:15.843889Z"
    }
   },
   "outputs": [
    {
     "name": "stdout",
     "output_type": "stream",
     "text": [
      "Best leaf size: 1\n",
      "Best p: 2\n",
      "Best n_neighbors: 1\n"
     ]
    }
   ],
   "source": [
    "#Hyperparameter Tuning KNNCL for Floor\n",
    "\n",
    "#List Hyperparameter to tune\n",
    "leaf_size = list(range(1,8))\n",
    "n_neighbors = list(range(1,8))\n",
    "p = [1,2]\n",
    "\n",
    "#Convert to dictionary\n",
    "hyperparameters = dict(leaf_size = leaf_size,\n",
    "n_neighbors = n_neighbors, p = p)\n",
    "\n",
    "#Create new KNN object\n",
    "knn_3 = KNeighborsClassifier()\n",
    "\n",
    "#Use GridSearch\n",
    "clf3 = GridSearchCV(knn_3, hyperparameters, cv = 10, n_jobs = -1)\n",
    "\n",
    "#Fit the model\n",
    "best_model = clf3.fit(X_train,Y_Flo_train)\n",
    "\n",
    "#Print the values of the best Hyperparameters\n",
    "print('Best leaf size:', best_model.best_estimator_.get_params()['leaf_size'])\n",
    "print('Best p:', best_model.best_estimator_.get_params()['p'])\n",
    "print('Best n_neighbors:', best_model.best_estimator_.get_params()['n_neighbors'])"
   ]
  },
  {
   "cell_type": "code",
   "execution_count": 261,
   "metadata": {
    "ExecuteTime": {
     "end_time": "2020-05-20T08:39:19.879009Z",
     "start_time": "2020-05-20T08:33:36.219867Z"
    },
    "hideCode": false,
    "hidePrompt": false
   },
   "outputs": [
    {
     "name": "stdout",
     "output_type": "stream",
     "text": [
      "KNN: 0.997743 (0.000939)\n",
      "[array([0.9968652 , 0.99937304, 0.99749216, 0.99749216, 0.9968652 ,\n",
      "       0.9968652 , 0.99811912, 0.99937304, 0.99811912, 0.99686324])]\n"
     ]
    }
   ],
   "source": [
    "#Models BuID NEW (with sample data)\n",
    "\n",
    "from sklearn.linear_model import LogisticRegression\n",
    "from sklearn.neighbors import KNeighborsClassifier\n",
    "from sklearn.discriminant_analysis import LinearDiscriminantAnalysis\n",
    "\n",
    "# build models \n",
    "models =[]\n",
    "\n",
    "#models.append(('LR', LogisticRegression(solver='liblinear', multi_class='ovr')))\n",
    "#models.append(('LDA', LinearDiscriminantAnalysis()))\n",
    "models.append(('KNN', KNeighborsClassifier(leaf_size = 1, n_neighbors = 1, p = 2)))\n",
    "#models.append(('CART', DecisionTreeClassifier()))\n",
    "#models.append(('NB', GaussianNB()))\n",
    "#models.append(('SVM', SVC(gamma='auto')))\n",
    "#models.append(('RF', RandomForestClassifier(n_estimators=200)))\n",
    "\n",
    "\n",
    "# evaluate each model in turn\n",
    "results = []\n",
    "names = []\n",
    "for name, model in models:\n",
    "    kfold = StratifiedKFold(n_splits=10, random_state=1, shuffle=True)\n",
    "    cv_results = cross_val_score(model,X_train, Y_BuID_train, cv=kfold, scoring='accuracy')\n",
    "    results.append(cv_results)\n",
    "    names.append(name)\n",
    "    \n",
    "    print('%s: %f (%f)' % (name, cv_results.mean(), cv_results.std()))\n",
    "    \n",
    "print(results)"
   ]
  },
  {
   "cell_type": "code",
   "execution_count": null,
   "metadata": {
    "ExecuteTime": {
     "end_time": "2020-05-20T03:10:41.774913Z",
     "start_time": "2020-05-19T21:22:32.351Z"
    }
   },
   "outputs": [],
   "source": [
    "#Hyperparameter Tuning KNNCL for BuID\n",
    "\n",
    "#List Hyperparameter to tune\n",
    "leaf_size = list(range(1,8))\n",
    "n_neighbors = list(range(1,8))\n",
    "p = [1,2]\n",
    "\n",
    "#Convert to dictionary\n",
    "hyperparameters = dict(leaf_size = leaf_size,\n",
    "n_neighbors = n_neighbors, p = p)\n",
    "\n",
    "#Create new KNN object\n",
    "knn_4 = KNeighborsClassifier()\n",
    "\n",
    "#Use GridSearch\n",
    "clf4 = GridSearchCV(knn_4, hyperparameters, cv = 10, n_jobs = -1)\n",
    "\n",
    "#Fit the model\n",
    "best_model = clf4.fit(X_train,Y_BuID_train)\n",
    "\n",
    "#Print the values of the best Hyperparameters\n",
    "print('Best leaf size:', best_model.best_estimator_.get_parms()['leaf_size'])\n",
    "print('Best p:', best_model.best_estimator_.get_params()['p'])\n",
    "print('Best n_neighbors:', best_model.best_estimator_.get_params()['n_neighbors'])"
   ]
  },
  {
   "cell_type": "code",
   "execution_count": 267,
   "metadata": {
    "ExecuteTime": {
     "end_time": "2020-05-20T13:53:47.322996Z",
     "start_time": "2020-05-20T13:53:47.306042Z"
    }
   },
   "outputs": [
    {
     "ename": "NameError",
     "evalue": "name 'clf4' is not defined",
     "output_type": "error",
     "traceback": [
      "\u001b[1;31m---------------------------------------------------------------------------\u001b[0m",
      "\u001b[1;31mNameError\u001b[0m                                 Traceback (most recent call last)",
      "\u001b[1;32m<ipython-input-267-b8ac0e42558d>\u001b[0m in \u001b[0;36m<module>\u001b[1;34m\u001b[0m\n\u001b[0;32m      3\u001b[0m \u001b[1;31m#print('Best n_neighbors:', best_model.best_estimator_.get_params()['n_neighbors'])\u001b[0m\u001b[1;33m\u001b[0m\u001b[1;33m\u001b[0m\u001b[1;33m\u001b[0m\u001b[0m\n\u001b[0;32m      4\u001b[0m \u001b[1;33m\u001b[0m\u001b[0m\n\u001b[1;32m----> 5\u001b[1;33m \u001b[0mprint\u001b[0m\u001b[1;33m(\u001b[0m\u001b[0mclf4\u001b[0m\u001b[1;33m.\u001b[0m\u001b[0mhead\u001b[0m\u001b[1;33m(\u001b[0m\u001b[1;33m)\u001b[0m\u001b[1;33m)\u001b[0m\u001b[1;33m\u001b[0m\u001b[1;33m\u001b[0m\u001b[0m\n\u001b[0m",
      "\u001b[1;31mNameError\u001b[0m: name 'clf4' is not defined"
     ]
    }
   ],
   "source": [
    "print('Best leaf size:', best_model.best_estimator_.get_params()['leaf_size'])\n",
    "print('Best p:', best_model.best_estimator_.get_params()['p'])\n",
    "print('Best n_neighbors:', best_model.best_estimator_.get_params()['n_neighbors'])"
   ]
  },
  {
   "cell_type": "code",
   "execution_count": 62,
   "metadata": {
    "ExecuteTime": {
     "end_time": "2020-05-07T14:47:32.213772Z",
     "start_time": "2020-05-07T14:42:23.744460Z"
    }
   },
   "outputs": [
    {
     "name": "stdout",
     "output_type": "stream",
     "text": [
      "CART: 0.996363 (0.001424)\n",
      "KNN: 0.997429 (0.000906)\n"
     ]
    }
   ],
   "source": [
    "#Models BuID OLD\n",
    "\n",
    "from sklearn.neighbors import KNeighborsClassifier\n",
    "\n",
    "# build models \n",
    "models =[]\n",
    "\n",
    "models.append(('CART', DecisionTreeClassifier()))\n",
    "models.append(('KNN', KNeighborsClassifier()))\n",
    "\n",
    "\n",
    "# evaluate each model in turn\n",
    "results = []\n",
    "names = []\n",
    "for name, model in models:\n",
    "    kfold = StratifiedKFold(n_splits=10, random_state=1, shuffle=True)\n",
    "    cv_results = cross_val_score(model, X_train, Y_BuID_train, cv=kfold, scoring='accuracy')\n",
    "    results.append(cv_results)\n",
    "    names.append(name)\n",
    "    \n",
    "    print('%s: %f (%f)' % (name, cv_results.mean(), cv_results.std()))"
   ]
  },
  {
   "cell_type": "code",
   "execution_count": 107,
   "metadata": {
    "ExecuteTime": {
     "end_time": "2020-05-08T15:08:01.039722Z",
     "start_time": "2020-05-08T15:08:00.574965Z"
    },
    "hideCode": false,
    "hidePrompt": false
   },
   "outputs": [
    {
     "ename": "ValueError",
     "evalue": "Dimensions of labels and X must be compatible",
     "output_type": "error",
     "traceback": [
      "\u001b[1;31m---------------------------------------------------------------------------\u001b[0m",
      "\u001b[1;31mValueError\u001b[0m                                Traceback (most recent call last)",
      "\u001b[1;32m<ipython-input-107-98eae6a42812>\u001b[0m in \u001b[0;36m<module>\u001b[1;34m\u001b[0m\n\u001b[0;32m      1\u001b[0m \u001b[1;31m# BuID compare algorithms\u001b[0m\u001b[1;33m\u001b[0m\u001b[1;33m\u001b[0m\u001b[1;33m\u001b[0m\u001b[0m\n\u001b[0;32m      2\u001b[0m \u001b[1;33m\u001b[0m\u001b[0m\n\u001b[1;32m----> 3\u001b[1;33m \u001b[0mpyplot\u001b[0m\u001b[1;33m.\u001b[0m\u001b[0mboxplot\u001b[0m\u001b[1;33m(\u001b[0m\u001b[0mresults\u001b[0m\u001b[1;33m,\u001b[0m \u001b[0mlabels\u001b[0m\u001b[1;33m=\u001b[0m\u001b[0mname\u001b[0m\u001b[1;33m)\u001b[0m\u001b[1;33m\u001b[0m\u001b[1;33m\u001b[0m\u001b[0m\n\u001b[0m\u001b[0;32m      4\u001b[0m \u001b[0mpyplot\u001b[0m\u001b[1;33m.\u001b[0m\u001b[0mtitle\u001b[0m\u001b[1;33m(\u001b[0m\u001b[1;34m'Algorithm Comparison'\u001b[0m\u001b[1;33m)\u001b[0m\u001b[1;33m\u001b[0m\u001b[1;33m\u001b[0m\u001b[0m\n\u001b[0;32m      5\u001b[0m \u001b[0mpyplot\u001b[0m\u001b[1;33m.\u001b[0m\u001b[0mshow\u001b[0m\u001b[1;33m(\u001b[0m\u001b[1;33m)\u001b[0m\u001b[1;33m\u001b[0m\u001b[1;33m\u001b[0m\u001b[0m\n",
      "\u001b[1;32m~\\anaconda3\\lib\\site-packages\\matplotlib\\pyplot.py\u001b[0m in \u001b[0;36mboxplot\u001b[1;34m(x, notch, sym, vert, whis, positions, widths, patch_artist, bootstrap, usermedians, conf_intervals, meanline, showmeans, showcaps, showbox, showfliers, boxprops, labels, flierprops, medianprops, meanprops, capprops, whiskerprops, manage_ticks, autorange, zorder, data)\u001b[0m\n\u001b[0;32m   2478\u001b[0m         \u001b[0mwhiskerprops\u001b[0m\u001b[1;33m=\u001b[0m\u001b[0mwhiskerprops\u001b[0m\u001b[1;33m,\u001b[0m \u001b[0mmanage_ticks\u001b[0m\u001b[1;33m=\u001b[0m\u001b[0mmanage_ticks\u001b[0m\u001b[1;33m,\u001b[0m\u001b[1;33m\u001b[0m\u001b[1;33m\u001b[0m\u001b[0m\n\u001b[0;32m   2479\u001b[0m         autorange=autorange, zorder=zorder, **({\"data\": data} if data\n\u001b[1;32m-> 2480\u001b[1;33m         is not None else {}))\n\u001b[0m\u001b[0;32m   2481\u001b[0m \u001b[1;33m\u001b[0m\u001b[0m\n\u001b[0;32m   2482\u001b[0m \u001b[1;33m\u001b[0m\u001b[0m\n",
      "\u001b[1;32m~\\anaconda3\\lib\\site-packages\\matplotlib\\cbook\\deprecation.py\u001b[0m in \u001b[0;36mwrapper\u001b[1;34m(*args, **kwargs)\u001b[0m\n\u001b[0;32m    305\u001b[0m                 f\"for the old name will be dropped %(removal)s.\")\n\u001b[0;32m    306\u001b[0m             \u001b[0mkwargs\u001b[0m\u001b[1;33m[\u001b[0m\u001b[0mnew\u001b[0m\u001b[1;33m]\u001b[0m \u001b[1;33m=\u001b[0m \u001b[0mkwargs\u001b[0m\u001b[1;33m.\u001b[0m\u001b[0mpop\u001b[0m\u001b[1;33m(\u001b[0m\u001b[0mold\u001b[0m\u001b[1;33m)\u001b[0m\u001b[1;33m\u001b[0m\u001b[1;33m\u001b[0m\u001b[0m\n\u001b[1;32m--> 307\u001b[1;33m         \u001b[1;32mreturn\u001b[0m \u001b[0mfunc\u001b[0m\u001b[1;33m(\u001b[0m\u001b[1;33m*\u001b[0m\u001b[0margs\u001b[0m\u001b[1;33m,\u001b[0m \u001b[1;33m**\u001b[0m\u001b[0mkwargs\u001b[0m\u001b[1;33m)\u001b[0m\u001b[1;33m\u001b[0m\u001b[1;33m\u001b[0m\u001b[0m\n\u001b[0m\u001b[0;32m    308\u001b[0m \u001b[1;33m\u001b[0m\u001b[0m\n\u001b[0;32m    309\u001b[0m     \u001b[1;31m# wrapper() must keep the same documented signature as func(): if we\u001b[0m\u001b[1;33m\u001b[0m\u001b[1;33m\u001b[0m\u001b[1;33m\u001b[0m\u001b[0m\n",
      "\u001b[1;32m~\\anaconda3\\lib\\site-packages\\matplotlib\\__init__.py\u001b[0m in \u001b[0;36minner\u001b[1;34m(ax, data, *args, **kwargs)\u001b[0m\n\u001b[0;32m   1597\u001b[0m     \u001b[1;32mdef\u001b[0m \u001b[0minner\u001b[0m\u001b[1;33m(\u001b[0m\u001b[0max\u001b[0m\u001b[1;33m,\u001b[0m \u001b[1;33m*\u001b[0m\u001b[0margs\u001b[0m\u001b[1;33m,\u001b[0m \u001b[0mdata\u001b[0m\u001b[1;33m=\u001b[0m\u001b[1;32mNone\u001b[0m\u001b[1;33m,\u001b[0m \u001b[1;33m**\u001b[0m\u001b[0mkwargs\u001b[0m\u001b[1;33m)\u001b[0m\u001b[1;33m:\u001b[0m\u001b[1;33m\u001b[0m\u001b[1;33m\u001b[0m\u001b[0m\n\u001b[0;32m   1598\u001b[0m         \u001b[1;32mif\u001b[0m \u001b[0mdata\u001b[0m \u001b[1;32mis\u001b[0m \u001b[1;32mNone\u001b[0m\u001b[1;33m:\u001b[0m\u001b[1;33m\u001b[0m\u001b[1;33m\u001b[0m\u001b[0m\n\u001b[1;32m-> 1599\u001b[1;33m             \u001b[1;32mreturn\u001b[0m \u001b[0mfunc\u001b[0m\u001b[1;33m(\u001b[0m\u001b[0max\u001b[0m\u001b[1;33m,\u001b[0m \u001b[1;33m*\u001b[0m\u001b[0mmap\u001b[0m\u001b[1;33m(\u001b[0m\u001b[0msanitize_sequence\u001b[0m\u001b[1;33m,\u001b[0m \u001b[0margs\u001b[0m\u001b[1;33m)\u001b[0m\u001b[1;33m,\u001b[0m \u001b[1;33m**\u001b[0m\u001b[0mkwargs\u001b[0m\u001b[1;33m)\u001b[0m\u001b[1;33m\u001b[0m\u001b[1;33m\u001b[0m\u001b[0m\n\u001b[0m\u001b[0;32m   1600\u001b[0m \u001b[1;33m\u001b[0m\u001b[0m\n\u001b[0;32m   1601\u001b[0m         \u001b[0mbound\u001b[0m \u001b[1;33m=\u001b[0m \u001b[0mnew_sig\u001b[0m\u001b[1;33m.\u001b[0m\u001b[0mbind\u001b[0m\u001b[1;33m(\u001b[0m\u001b[0max\u001b[0m\u001b[1;33m,\u001b[0m \u001b[1;33m*\u001b[0m\u001b[0margs\u001b[0m\u001b[1;33m,\u001b[0m \u001b[1;33m**\u001b[0m\u001b[0mkwargs\u001b[0m\u001b[1;33m)\u001b[0m\u001b[1;33m\u001b[0m\u001b[1;33m\u001b[0m\u001b[0m\n",
      "\u001b[1;32m~\\anaconda3\\lib\\site-packages\\matplotlib\\axes\\_axes.py\u001b[0m in \u001b[0;36mboxplot\u001b[1;34m(self, x, notch, sym, vert, whis, positions, widths, patch_artist, bootstrap, usermedians, conf_intervals, meanline, showmeans, showcaps, showbox, showfliers, boxprops, labels, flierprops, medianprops, meanprops, capprops, whiskerprops, manage_ticks, autorange, zorder)\u001b[0m\n\u001b[0;32m   3667\u001b[0m \u001b[1;33m\u001b[0m\u001b[0m\n\u001b[0;32m   3668\u001b[0m         bxpstats = cbook.boxplot_stats(x, whis=whis, bootstrap=bootstrap,\n\u001b[1;32m-> 3669\u001b[1;33m                                        labels=labels, autorange=autorange)\n\u001b[0m\u001b[0;32m   3670\u001b[0m         \u001b[1;32mif\u001b[0m \u001b[0mnotch\u001b[0m \u001b[1;32mis\u001b[0m \u001b[1;32mNone\u001b[0m\u001b[1;33m:\u001b[0m\u001b[1;33m\u001b[0m\u001b[1;33m\u001b[0m\u001b[0m\n\u001b[0;32m   3671\u001b[0m             \u001b[0mnotch\u001b[0m \u001b[1;33m=\u001b[0m \u001b[0mrcParams\u001b[0m\u001b[1;33m[\u001b[0m\u001b[1;34m'boxplot.notch'\u001b[0m\u001b[1;33m]\u001b[0m\u001b[1;33m\u001b[0m\u001b[1;33m\u001b[0m\u001b[0m\n",
      "\u001b[1;32m~\\anaconda3\\lib\\site-packages\\matplotlib\\cbook\\__init__.py\u001b[0m in \u001b[0;36mboxplot_stats\u001b[1;34m(X, whis, bootstrap, labels, autorange)\u001b[0m\n\u001b[0;32m   1249\u001b[0m         \u001b[0mlabels\u001b[0m \u001b[1;33m=\u001b[0m \u001b[0mitertools\u001b[0m\u001b[1;33m.\u001b[0m\u001b[0mrepeat\u001b[0m\u001b[1;33m(\u001b[0m\u001b[1;32mNone\u001b[0m\u001b[1;33m)\u001b[0m\u001b[1;33m\u001b[0m\u001b[1;33m\u001b[0m\u001b[0m\n\u001b[0;32m   1250\u001b[0m     \u001b[1;32melif\u001b[0m \u001b[0mlen\u001b[0m\u001b[1;33m(\u001b[0m\u001b[0mlabels\u001b[0m\u001b[1;33m)\u001b[0m \u001b[1;33m!=\u001b[0m \u001b[0mncols\u001b[0m\u001b[1;33m:\u001b[0m\u001b[1;33m\u001b[0m\u001b[1;33m\u001b[0m\u001b[0m\n\u001b[1;32m-> 1251\u001b[1;33m         \u001b[1;32mraise\u001b[0m \u001b[0mValueError\u001b[0m\u001b[1;33m(\u001b[0m\u001b[1;34m\"Dimensions of labels and X must be compatible\"\u001b[0m\u001b[1;33m)\u001b[0m\u001b[1;33m\u001b[0m\u001b[1;33m\u001b[0m\u001b[0m\n\u001b[0m\u001b[0;32m   1252\u001b[0m \u001b[1;33m\u001b[0m\u001b[0m\n\u001b[0;32m   1253\u001b[0m     \u001b[0minput_whis\u001b[0m \u001b[1;33m=\u001b[0m \u001b[0mwhis\u001b[0m\u001b[1;33m\u001b[0m\u001b[1;33m\u001b[0m\u001b[0m\n",
      "\u001b[1;31mValueError\u001b[0m: Dimensions of labels and X must be compatible"
     ]
    },
    {
     "data": {
      "image/png": "[encoded data removed]",
      "text/plain": [
       "<Figure size 432x288 with 1 Axes>"
      ]
     },
     "metadata": {
      "needs_background": "light"
     },
     "output_type": "display_data"
    }
   ],
   "source": [
    "# BuID compare algorithms\n",
    "\n",
    "pyplot.boxplot(results, labels=name)\n",
    "pyplot.title('Algorithm Comparison')\n",
    "pyplot.show()"
   ]
  },
  {
   "cell_type": "code",
   "execution_count": null,
   "metadata": {},
   "outputs": [],
   "source": [
    "# Longitude Make predictions on validation dataset\n",
    "\n",
    "#choose model\n",
    "#model = KNeighborsClassifier(n_neighbors=11)\n",
    "#model = LinearDiscriminantAnalysis()\n",
    "#model = RandomForestClassifier(n_estimators=200)\n",
    "model = KNeighborsRegressor(n_neighbors=12)\n",
    "\n",
    "#apply model to all training data\n",
    "model.fit(X_train, Y_Log_train)\n",
    "\n",
    "#make predictions of validation data with model (trained on training data)\n",
    "predictions = model.predict(X_validation)\n",
    "\n",
    "\n",
    "# Longitude Evaluate predictions\n",
    "\n",
    "print(accuracy_score(Y_Log_Validation, predictions))\n",
    "\n",
    "print(confusion_matrix(Y_Log_Validation, predictions))\n",
    "\n",
    "print(classification_report(Y_Log_Validation, predictions))"
   ]
  },
  {
   "cell_type": "code",
   "execution_count": 248,
   "metadata": {
    "ExecuteTime": {
     "end_time": "2020-05-12T14:29:30.159467Z",
     "start_time": "2020-05-12T14:28:11.136820Z"
    }
   },
   "outputs": [
    {
     "name": "stdout",
     "output_type": "stream",
     "text": [
      "64.66597770237372\n"
     ]
    }
   ],
   "source": [
    "# Latitude Make predictions on validation dataset\n",
    "\n",
    "from sklearn.metrics import mean_squared_error\n",
    "#choose model\n",
    "#model = KNeighborsClassifier(n_neighbors=11)\n",
    "#model = LinearDiscriminantAnalysis()\n",
    "#model = RandomForestClassifier(n_estimators=200)\n",
    "#model = KNeighborsRegressor(n_neighbors=11)\n",
    "\n",
    "#apply model to all training data\n",
    "model.fit(X_train, Y_Lat_train)\n",
    "\n",
    "#make predictions of validation data with model (trained on training data)\n",
    "predictions = model.predict(X_validation)\n",
    "\n",
    "\n",
    "# Latitude Evaluate predictions\n",
    "\n",
    "print(mean_squared_error(Y_Lat_Validation, predictions))\n",
    "\n",
    "#print(confusion_matrix(Y_Lat_Validation, predictions))\n",
    "\n",
    "#print(classification_report(Y_Lat_Validation, predictions))"
   ]
  },
  {
   "cell_type": "code",
   "execution_count": 241,
   "metadata": {
    "ExecuteTime": {
     "end_time": "2020-05-12T13:51:11.125437Z",
     "start_time": "2020-05-12T13:50:57.041109Z"
    }
   },
   "outputs": [
    {
     "name": "stdout",
     "output_type": "stream",
     "text": [
      "0.9924774322968907\n",
      "[[ 859    0    0    9    0]\n",
      " [   4  986    1    2    0]\n",
      " [   0    6  879    6    0]\n",
      " [   0    0    2 1029    0]\n",
      " [   0    0    0    0  205]]\n",
      "              precision    recall  f1-score   support\n",
      "\n",
      "           0       1.00      0.99      0.99       868\n",
      "           1       0.99      0.99      0.99       993\n",
      "           2       1.00      0.99      0.99       891\n",
      "           3       0.98      1.00      0.99      1031\n",
      "           4       1.00      1.00      1.00       205\n",
      "\n",
      "    accuracy                           0.99      3988\n",
      "   macro avg       0.99      0.99      0.99      3988\n",
      "weighted avg       0.99      0.99      0.99      3988\n",
      "\n"
     ]
    }
   ],
   "source": [
    "# Floor Make predictions on validation dataset\n",
    "\n",
    "#choose model\n",
    "#model = KNeighborsClassifier(n_neighbors=11)\n",
    "#model = LinearDiscriminantAnalysis()\n",
    "model = RandomForestClassifier(n_estimators=200)\n",
    "\n",
    "#apply model to all training data\n",
    "model.fit(X_train, Y_Flo_train)\n",
    "\n",
    "#make predictions of validation data with model (trained on training data)\n",
    "predictions = model.predict(X_validation)\n",
    "\n",
    "\n",
    "# Floor Evaluate predictions\n",
    "\n",
    "print(accuracy_score(Y_Flo_Validation, predictions))\n",
    "\n",
    "print(confusion_matrix(Y_Flo_Validation, predictions))\n",
    "\n",
    "print(classification_report(Y_Flo_Validation, predictions))"
   ]
  },
  {
   "cell_type": "code",
   "execution_count": 239,
   "metadata": {
    "ExecuteTime": {
     "end_time": "2020-05-12T13:41:41.863480Z",
     "start_time": "2020-05-12T13:41:38.797692Z"
    },
    "hideCode": false,
    "hidePrompt": false
   },
   "outputs": [],
   "source": [
    "# BuID Make predictions on validation dataset\n",
    "\n",
    "#choose model\n",
    "#model = KNeighborsClassifier(n_neighbors=11)\n",
    "model =LinearDiscriminantAnalysis()\n",
    "\n",
    "\n",
    "#apply model to all training data\n",
    "model.fit(X_train, Y_BuID_train)\n",
    "\n",
    "#make predictions of validation data with model (trained on training data)\n",
    "predictions = model.predict(X_validation)"
   ]
  },
  {
   "cell_type": "code",
   "execution_count": 240,
   "metadata": {
    "ExecuteTime": {
     "end_time": "2020-05-12T13:41:45.870488Z",
     "start_time": "2020-05-12T13:41:45.841561Z"
    },
    "hideCode": false,
    "hidePrompt": false
   },
   "outputs": [
    {
     "name": "stdout",
     "output_type": "stream",
     "text": [
      "0.9962387161484454\n",
      "[[1024    0    1]\n",
      " [   0 1016   12]\n",
      " [   0    2 1933]]\n",
      "              precision    recall  f1-score   support\n",
      "\n",
      "           0       1.00      1.00      1.00      1025\n",
      "           1       1.00      0.99      0.99      1028\n",
      "           2       0.99      1.00      1.00      1935\n",
      "\n",
      "    accuracy                           1.00      3988\n",
      "   macro avg       1.00      1.00      1.00      3988\n",
      "weighted avg       1.00      1.00      1.00      3988\n",
      "\n"
     ]
    }
   ],
   "source": [
    "# BuID Evaluate predictions\n",
    "\n",
    "print(accuracy_score(Y_BuID_Validation, predictions))\n",
    "\n",
    "print(confusion_matrix(Y_BuID_Validation, predictions))\n",
    "\n",
    "print(classification_report(Y_BuID_Validation, predictions))"
   ]
  },
  {
   "cell_type": "code",
   "execution_count": null,
   "metadata": {
    "hideCode": false,
    "hidePrompt": false
   },
   "outputs": [],
   "source": [
    "# summary"
   ]
  }
 ],
 "metadata": {
  "hide_code_all_hidden": false,
  "hide_input": false,
  "kernelspec": {
   "display_name": "Python 3",
   "language": "python",
   "name": "python3"
  },
  "language_info": {
   "codemirror_mode": {
    "name": "ipython",
    "version": 3
   },
   "file_extension": ".py",
   "mimetype": "text/x-python",
   "name": "python",
   "nbconvert_exporter": "python",
   "pygments_lexer": "ipython3",
   "version": "3.7.6"
  },
  "toc": {
   "base_numbering": 1,
   "nav_menu": {},
   "number_sections": true,
   "sideBar": true,
   "skip_h1_title": false,
   "title_cell": "Table of Contents",
   "title_sidebar": "Contents",
   "toc_cell": false,
   "toc_position": {},
   "toc_section_display": true,
   "toc_window_display": false
  },
  "varInspector": {
   "cols": {
    "lenName": 16,
    "lenType": 16,
    "lenVar": 40
   },
   "kernels_config": {
    "python": {
     "delete_cmd_postfix": "",
     "delete_cmd_prefix": "del ",
     "library": "var_list.py",
     "varRefreshCmd": "print(var_dic_list())"
    },
    "r": {
     "delete_cmd_postfix": ") ",
     "delete_cmd_prefix": "rm(",
     "library": "var_list.r",
     "varRefreshCmd": "cat(var_dic_list()) "
    }
   },
   "oldHeight": 515.85,
   "position": {
    "height": "40px",
    "left": "1394px",
    "right": "20px",
    "top": "235px",
    "width": "500px"
   },
   "types_to_exclude": [
    "module",
    "function",
    "builtin_function_or_method",
    "instance",
    "_Feature"
   ],
   "varInspector_section_display": "none",
   "window_display": true
  }
 },
 "nbformat": 4,
 "nbformat_minor": 4
}
